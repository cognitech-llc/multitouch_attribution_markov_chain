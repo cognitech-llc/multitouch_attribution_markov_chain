{
 "cells": [
  {
   "cell_type": "code",
   "execution_count": 1,
   "metadata": {},
   "outputs": [
    {
     "name": "stderr",
     "output_type": "stream",
     "text": [
      "Matplotlib is building the font cache using fc-list. This may take a moment.\n"
     ]
    }
   ],
   "source": [
    "#https://medium.com/@mortenhegewald/marketing-channel-attribution-using-markov-chains-101-in-python-78fb181ebf1e\n",
    "\n",
    "import pandas as pd\n",
    "import seaborn as sns\n",
    "import matplotlib.pyplot as plt\n",
    "import subprocess"
   ]
  },
  {
   "cell_type": "code",
   "execution_count": 2,
   "metadata": {},
   "outputs": [],
   "source": [
    "# Load in our data\n",
    "df = pd.read_csv('Channel_attribution.csv')\n",
    "\n",
    "# Grab list of columns to iterate through\n",
    "cols = df.columns"
   ]
  },
  {
   "cell_type": "code",
   "execution_count": 3,
   "metadata": {},
   "outputs": [],
   "source": [
    "# Iterate through columns to change all ints to str and remove any trailing '.0'\n",
    "for col in cols:\n",
    "    df[col] = df[col].astype(str)\n",
    "    df[col] = df[col].map(lambda x: str(x)[:-2] if '.' in x else str(x))\n",
    "\n",
    "# Create a total path variable\n",
    "df['Path'] = ''\n",
    "for i in df.index:\n",
    "    #df.at[i, 'Path'] = 'Start'\n",
    "    for x in cols:\n",
    "        df.at[i, 'Path'] = df.at[i, 'Path'] + df.at[i, x] + ' > '"
   ]
  },
  {
   "cell_type": "code",
   "execution_count": 4,
   "metadata": {},
   "outputs": [],
   "source": [
    "# Split path on conversion (channel 21)\n",
    "df['Path'] = df['Path'].map(lambda x: x.split(' > 21')[0])\n",
    "\n",
    "# Create conversion value we can sum to get total conversions for each path\n",
    "df['Conversion'] = 1"
   ]
  },
  {
   "cell_type": "code",
   "execution_count": 7,
   "metadata": {},
   "outputs": [
    {
     "data": {
      "text/html": [
       "<div>\n",
       "<style scoped>\n",
       "    .dataframe tbody tr th:only-of-type {\n",
       "        vertical-align: middle;\n",
       "    }\n",
       "\n",
       "    .dataframe tbody tr th {\n",
       "        vertical-align: top;\n",
       "    }\n",
       "\n",
       "    .dataframe thead th {\n",
       "        text-align: right;\n",
       "    }\n",
       "</style>\n",
       "<table border=\"1\" class=\"dataframe\">\n",
       "  <thead>\n",
       "    <tr style=\"text-align: right;\">\n",
       "      <th></th>\n",
       "      <th>R05A.01</th>\n",
       "      <th>R05A.02</th>\n",
       "      <th>R05A.03</th>\n",
       "      <th>R05A.04</th>\n",
       "      <th>R05A.05</th>\n",
       "      <th>R05A.06</th>\n",
       "      <th>R05A.07</th>\n",
       "      <th>R05A.08</th>\n",
       "      <th>R05A.09</th>\n",
       "      <th>R05A.10</th>\n",
       "      <th>...</th>\n",
       "      <th>R05A.14</th>\n",
       "      <th>R05A.15</th>\n",
       "      <th>R05A.16</th>\n",
       "      <th>R05A.17</th>\n",
       "      <th>R05A.18</th>\n",
       "      <th>R05A.19</th>\n",
       "      <th>R05A.20</th>\n",
       "      <th>Output</th>\n",
       "      <th>Path</th>\n",
       "      <th>Conversion</th>\n",
       "    </tr>\n",
       "  </thead>\n",
       "  <tbody>\n",
       "    <tr>\n",
       "      <th>0</th>\n",
       "      <td>16</td>\n",
       "      <td>4</td>\n",
       "      <td>3</td>\n",
       "      <td>5</td>\n",
       "      <td>10</td>\n",
       "      <td>8</td>\n",
       "      <td>6</td>\n",
       "      <td>8</td>\n",
       "      <td>13</td>\n",
       "      <td>20</td>\n",
       "      <td>...</td>\n",
       "      <td>nan</td>\n",
       "      <td>nan</td>\n",
       "      <td>nan</td>\n",
       "      <td>nan</td>\n",
       "      <td>nan</td>\n",
       "      <td>nan</td>\n",
       "      <td>nan</td>\n",
       "      <td>nan</td>\n",
       "      <td>16 &gt; 4 &gt; 3 &gt; 5 &gt; 10 &gt; 8 &gt; 6 &gt; 8 &gt; 13 &gt; 20</td>\n",
       "      <td>1</td>\n",
       "    </tr>\n",
       "    <tr>\n",
       "      <th>1</th>\n",
       "      <td>2</td>\n",
       "      <td>1</td>\n",
       "      <td>9</td>\n",
       "      <td>10</td>\n",
       "      <td>1</td>\n",
       "      <td>4</td>\n",
       "      <td>3</td>\n",
       "      <td>21</td>\n",
       "      <td>nan</td>\n",
       "      <td>nan</td>\n",
       "      <td>...</td>\n",
       "      <td>nan</td>\n",
       "      <td>nan</td>\n",
       "      <td>nan</td>\n",
       "      <td>nan</td>\n",
       "      <td>nan</td>\n",
       "      <td>nan</td>\n",
       "      <td>nan</td>\n",
       "      <td>nan</td>\n",
       "      <td>2 &gt; 1 &gt; 9 &gt; 10 &gt; 1 &gt; 4 &gt; 3</td>\n",
       "      <td>1</td>\n",
       "    </tr>\n",
       "    <tr>\n",
       "      <th>2</th>\n",
       "      <td>9</td>\n",
       "      <td>13</td>\n",
       "      <td>20</td>\n",
       "      <td>16</td>\n",
       "      <td>15</td>\n",
       "      <td>21</td>\n",
       "      <td>nan</td>\n",
       "      <td>nan</td>\n",
       "      <td>nan</td>\n",
       "      <td>nan</td>\n",
       "      <td>...</td>\n",
       "      <td>nan</td>\n",
       "      <td>nan</td>\n",
       "      <td>nan</td>\n",
       "      <td>nan</td>\n",
       "      <td>nan</td>\n",
       "      <td>nan</td>\n",
       "      <td>nan</td>\n",
       "      <td>nan</td>\n",
       "      <td>9 &gt; 13 &gt; 20 &gt; 16 &gt; 15</td>\n",
       "      <td>1</td>\n",
       "    </tr>\n",
       "    <tr>\n",
       "      <th>3</th>\n",
       "      <td>8</td>\n",
       "      <td>15</td>\n",
       "      <td>20</td>\n",
       "      <td>21</td>\n",
       "      <td>nan</td>\n",
       "      <td>nan</td>\n",
       "      <td>nan</td>\n",
       "      <td>nan</td>\n",
       "      <td>nan</td>\n",
       "      <td>nan</td>\n",
       "      <td>...</td>\n",
       "      <td>nan</td>\n",
       "      <td>nan</td>\n",
       "      <td>nan</td>\n",
       "      <td>nan</td>\n",
       "      <td>nan</td>\n",
       "      <td>nan</td>\n",
       "      <td>nan</td>\n",
       "      <td>nan</td>\n",
       "      <td>8 &gt; 15 &gt; 20</td>\n",
       "      <td>1</td>\n",
       "    </tr>\n",
       "    <tr>\n",
       "      <th>4</th>\n",
       "      <td>16</td>\n",
       "      <td>9</td>\n",
       "      <td>13</td>\n",
       "      <td>20</td>\n",
       "      <td>21</td>\n",
       "      <td>nan</td>\n",
       "      <td>nan</td>\n",
       "      <td>nan</td>\n",
       "      <td>nan</td>\n",
       "      <td>nan</td>\n",
       "      <td>...</td>\n",
       "      <td>nan</td>\n",
       "      <td>nan</td>\n",
       "      <td>nan</td>\n",
       "      <td>nan</td>\n",
       "      <td>nan</td>\n",
       "      <td>nan</td>\n",
       "      <td>nan</td>\n",
       "      <td>nan</td>\n",
       "      <td>16 &gt; 9 &gt; 13 &gt; 20</td>\n",
       "      <td>1</td>\n",
       "    </tr>\n",
       "    <tr>\n",
       "      <th>5</th>\n",
       "      <td>1</td>\n",
       "      <td>11</td>\n",
       "      <td>8</td>\n",
       "      <td>4</td>\n",
       "      <td>9</td>\n",
       "      <td>21</td>\n",
       "      <td>nan</td>\n",
       "      <td>nan</td>\n",
       "      <td>nan</td>\n",
       "      <td>nan</td>\n",
       "      <td>...</td>\n",
       "      <td>nan</td>\n",
       "      <td>nan</td>\n",
       "      <td>nan</td>\n",
       "      <td>nan</td>\n",
       "      <td>nan</td>\n",
       "      <td>nan</td>\n",
       "      <td>nan</td>\n",
       "      <td>nan</td>\n",
       "      <td>1 &gt; 11 &gt; 8 &gt; 4 &gt; 9</td>\n",
       "      <td>1</td>\n",
       "    </tr>\n",
       "  </tbody>\n",
       "</table>\n",
       "<p>6 rows × 23 columns</p>\n",
       "</div>"
      ],
      "text/plain": [
       "  R05A.01 R05A.02 R05A.03 R05A.04 R05A.05 R05A.06 R05A.07 R05A.08 R05A.09  \\\n",
       "0      16       4       3       5      10       8       6       8      13   \n",
       "1       2       1       9      10       1       4       3      21     nan   \n",
       "2       9      13      20      16      15      21     nan     nan     nan   \n",
       "3       8      15      20      21     nan     nan     nan     nan     nan   \n",
       "4      16       9      13      20      21     nan     nan     nan     nan   \n",
       "5       1      11       8       4       9      21     nan     nan     nan   \n",
       "\n",
       "  R05A.10  ... R05A.14 R05A.15 R05A.16 R05A.17 R05A.18 R05A.19 R05A.20 Output  \\\n",
       "0      20  ...     nan     nan     nan     nan     nan     nan     nan    nan   \n",
       "1     nan  ...     nan     nan     nan     nan     nan     nan     nan    nan   \n",
       "2     nan  ...     nan     nan     nan     nan     nan     nan     nan    nan   \n",
       "3     nan  ...     nan     nan     nan     nan     nan     nan     nan    nan   \n",
       "4     nan  ...     nan     nan     nan     nan     nan     nan     nan    nan   \n",
       "5     nan  ...     nan     nan     nan     nan     nan     nan     nan    nan   \n",
       "\n",
       "                                        Path Conversion  \n",
       "0  16 > 4 > 3 > 5 > 10 > 8 > 6 > 8 > 13 > 20          1  \n",
       "1                 2 > 1 > 9 > 10 > 1 > 4 > 3          1  \n",
       "2                      9 > 13 > 20 > 16 > 15          1  \n",
       "3                                8 > 15 > 20          1  \n",
       "4                           16 > 9 > 13 > 20          1  \n",
       "5                         1 > 11 > 8 > 4 > 9          1  \n",
       "\n",
       "[6 rows x 23 columns]"
      ]
     },
     "execution_count": 7,
     "metadata": {},
     "output_type": "execute_result"
    }
   ],
   "source": [
    "df.head(6)"
   ]
  },
  {
   "cell_type": "code",
   "execution_count": 8,
   "metadata": {},
   "outputs": [],
   "source": [
    "# Select relevant columns\n",
    "df = df[['Path', 'Conversion']]\n",
    "\n",
    "# Sum conversions by Path\n",
    "df = df.groupby('Path').sum().reset_index()\n",
    "\n",
    "# Write DF to CSV to be executed in R\n",
    "df.to_csv('Paths.csv', index=False)"
   ]
  },
  {
   "cell_type": "code",
   "execution_count": 11,
   "metadata": {},
   "outputs": [
    {
     "name": "stdout",
     "output_type": "stream",
     "text": [
      "Loading required package: ChannelAttribution\n",
      "Warning message:\n",
      "package ‘ChannelAttribution’ was built under R version 3.4.4 \n"
     ]
    }
   ],
   "source": [
    "# Run Markov Model R code\n",
    "!Rscript Markov.R"
   ]
  },
  {
   "cell_type": "code",
   "execution_count": 15,
   "metadata": {},
   "outputs": [],
   "source": [
    "# Load in the CSV file with the model output from R\n",
    "markov = pd.read_csv('Markov - Output - Conversion values.csv')\n",
    "\n",
    "# Select only the necessary columns and rename them\n",
    "markov = markov[['channel_name', 'total_conversions']]\n",
    "markov.columns = ['Channel', 'Conversion']"
   ]
  },
  {
   "cell_type": "code",
   "execution_count": 16,
   "metadata": {},
   "outputs": [],
   "source": [
    "# First Touch Attribution\n",
    "df['First Touch'] = df['Path'].map(lambda x: x.split(' > ')[0])\n",
    "df_ft = pd.DataFrame()\n",
    "df_ft['Channel'] = df['First Touch']\n",
    "df_ft['Attribution'] = 'First Touch'\n",
    "df_ft['Conversion'] = 1\n",
    "df_ft = df_ft.groupby(['Channel', 'Attribution']).sum().reset_index()"
   ]
  },
  {
   "cell_type": "code",
   "execution_count": 17,
   "metadata": {},
   "outputs": [],
   "source": [
    "# Last Touch Attribution\n",
    "df['Last Touch'] = df['Path'].map(lambda x: x.split(' > ')[-1])\n",
    "df_lt = pd.DataFrame()\n",
    "df_lt['Channel'] = df['Last Touch']\n",
    "df_lt['Attribution'] = 'Last Touch'\n",
    "df_lt['Conversion'] = 1\n",
    "df_lt = df_lt.groupby(['Channel', 'Attribution']).sum().reset_index()"
   ]
  },
  {
   "cell_type": "code",
   "execution_count": 18,
   "metadata": {},
   "outputs": [],
   "source": [
    "# Linear Attribution\n",
    "channel = []\n",
    "conversion = []\n",
    "for i in df.index:\n",
    "    for j in df.at[i, 'Path'].split(' > '):\n",
    "        channel.append(j)\n",
    "        conversion.append(1/len(df.at[i, 'Path'].split(' > ')))\n",
    "lin_att_df = pd.DataFrame()\n",
    "lin_att_df['Channel'] = channel\n",
    "lin_att_df['Attribution'] = 'Linear'\n",
    "lin_att_df['Conversion'] = conversion\n",
    "lin_att_df = lin_att_df.groupby(['Channel', 'Attribution']).sum().reset_index()"
   ]
  },
  {
   "cell_type": "code",
   "execution_count": 19,
   "metadata": {},
   "outputs": [
    {
     "name": "stderr",
     "output_type": "stream",
     "text": [
      "//anaconda/envs/consumer_finance/lib/python3.6/site-packages/ipykernel_launcher.py:2: FutureWarning: Sorting because non-concatenation axis is not aligned. A future version\n",
      "of pandas will change to not sort by default.\n",
      "\n",
      "To accept the future behavior, pass 'sort=False'.\n",
      "\n",
      "To retain the current behavior and silence the warning, pass 'sort=True'.\n",
      "\n",
      "  \n"
     ]
    }
   ],
   "source": [
    "# Concatenate the four data frames to a single data frame\n",
    "df_total_attr = pd.concat([df_ft, df_lt, lin_att_df, markov])\n",
    "df_total_attr['Channel'] = df_total_attr['Channel'].astype(int)\n",
    "df_total_attr.sort_values(by='Channel', ascending=True, inplace=True)"
   ]
  },
  {
   "cell_type": "code",
   "execution_count": 20,
   "metadata": {},
   "outputs": [
    {
     "data": {
      "image/png": "[encoded data removed]",
      "text/plain": [
       "<Figure size 1152x720 with 1 Axes>"
      ]
     },
     "metadata": {},
     "output_type": "display_data"
    }
   ],
   "source": [
    "# Visualize the attributions\n",
    "sns.set_style(\"whitegrid\")\n",
    "plt.rc('legend', fontsize=15)\n",
    "fig, ax = plt.subplots(figsize=(16, 10))\n",
    "sns.barplot(x='Channel', y='Conversion', hue='Attribution', data=df_total_attr)\n",
    "plt.show()"
   ]
  },
  {
   "cell_type": "code",
   "execution_count": 21,
   "metadata": {},
   "outputs": [],
   "source": [
    "# Read in transition matrix CSV\n",
    "trans_prob = pd.read_csv('Markov - Output - Transition matrix.csv')\n",
    "\n",
    "# Convert data to floats\n",
    "trans_prob ['transition_probability'] = trans_prob ['transition_probability'].astype(float)\n",
    "\n",
    "# Convert start and conversion event to numeric values so we can sort and iterate through\n",
    "trans_prob .replace('(start)', '0', inplace=True)\n",
    "trans_prob .replace('(conversion)', '21', inplace=True)"
   ]
  },
  {
   "cell_type": "code",
   "execution_count": 22,
   "metadata": {},
   "outputs": [],
   "source": [
    "# Get unique origin channels\n",
    "channel_from_unique = trans_prob ['channel_from'].unique().tolist()\n",
    "channel_from_unique.sort(key=float)\n",
    "\n",
    "# Get unique destination channels\n",
    "channel_to_unique = trans_prob ['channel_to'].unique().tolist()\n",
    "channel_to_unique.sort(key=float)"
   ]
  },
  {
   "cell_type": "code",
   "execution_count": 23,
   "metadata": {},
   "outputs": [],
   "source": [
    "# Create new matrix with origin and destination channels as columns and index\n",
    "trans_matrix = pd.DataFrame(columns=channel_to_unique, index=channel_from_unique)\n",
    "\n",
    "# Assign the probabilities to the corresponding cells in our transition matrix\n",
    "for f in channel_from_unique:\n",
    "    for t in channel_to_unique:\n",
    "        x = trans_prob [(trans_prob ['channel_from'] == f) & (trans_prob ['channel_to'] == t)]\n",
    "        prob = x['transition_probability'].values\n",
    "        if prob.size > 0:\n",
    "            trans_matrix[t][f] = prob[0]\n",
    "        else:\n",
    "            trans_matrix[t][f] = 0"
   ]
  },
  {
   "cell_type": "code",
   "execution_count": 24,
   "metadata": {},
   "outputs": [],
   "source": [
    "# Convert all probabilities to floats\n",
    "trans_matrix = trans_matrix.apply(pd.to_numeric)\n",
    "\n",
    "# Rename our start and conversion events\n",
    "trans_matrix.rename(index={'0': 'Start'}, inplace=True)\n",
    "trans_matrix.rename(columns={'21': 'Conversion'}, inplace=True)"
   ]
  },
  {
   "cell_type": "code",
   "execution_count": 25,
   "metadata": {},
   "outputs": [
    {
     "data": {
      "image/png": "[encoded data removed]",
      "text/plain": [
       "<Figure size 1584x864 with 2 Axes>"
      ]
     },
     "metadata": {},
     "output_type": "display_data"
    }
   ],
   "source": [
    "# Visualize this transition matrix in a heatmap\n",
    "sns.set_style(\"whitegrid\")\n",
    "fig, ax = plt.subplots(figsize=(22, 12))\n",
    "sns.heatmap(trans_matrix, cmap=\"RdBu_r\")\n",
    "plt.show()"
   ]
  },
  {
   "cell_type": "code",
   "execution_count": null,
   "metadata": {},
   "outputs": [],
   "source": []
  },
  {
   "cell_type": "code",
   "execution_count": null,
   "metadata": {},
   "outputs": [],
   "source": []
  }
 ],
 "metadata": {
  "kernelspec": {
   "display_name": "Python 3",
   "language": "python",
   "name": "python3"
  },
  "language_info": {
   "codemirror_mode": {
    "name": "ipython",
    "version": 3
   },
   "file_extension": ".py",
   "mimetype": "text/x-python",
   "name": "python",
   "nbconvert_exporter": "python",
   "pygments_lexer": "ipython3",
   "version": "3.6.7"
  }
 },
 "nbformat": 4,
 "nbformat_minor": 2
}
